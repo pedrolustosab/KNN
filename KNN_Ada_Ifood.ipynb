{
  "nbformat": 4,
  "nbformat_minor": 0,
  "metadata": {
    "colab": {
      "provenance": []
    },
    "kernelspec": {
      "name": "python3",
      "display_name": "Python 3"
    },
    "language_info": {
      "name": "python"
    }
  },
  "cells": [
    {
      "cell_type": "markdown",
      "source": [
        "<h1>MINI PROJETO DE KNN<h1>\n",
        "\n",
        "<h2>Definição do Problema<h2>\n",
        "\n",
        "Os **data** são referentes ao cadastro de clientes de uma empresa de logística de entrega de alimentação. Nesse cadastro, há quanto foi gasto pelo cliente na **semana 1, semana 2, semana 3 e semana 4** em compras no aplicativo, e uma classificação de NPS:** Promotor, Neutro, Detrator**. O nosso intuito é, a partir do perfil dessas compras de alguns clientes que já deram uma nota NPS, estimar a classificação para aqueles que ainda não foram classificados, a fim de melhorar o atendimento desses novos clientes.\n",
        "\n",
        "Os **data** abaixo seguem o seguinte padrão:\n",
        "\n",
        "`[CPF: INT, Classificação NPS: STRING, Valor das últimas compras feitas pelo cliente: TUPLA]`\n",
        "\n"
      ],
      "metadata": {
        "id": "cMbXVWI10kog"
      }
    },
    {
      "cell_type": "code",
      "source": [
        "#Lista com dados com classificação\n",
        "\n",
        "data = [[66707599984, 'Promotor', (51.00, 35.00, 14.00, 20.0)],\n",
        " [55695397315, 'Promotor', (49.00, 30.00, 14.00, 20.0)],\n",
        " [63743886918, 'Promotor', (47.00, 32.00, 13.00, 20.0)],\n",
        " [55941368774, 'Promotor', (46.00, 31.00, 15.00, 20.0)],\n",
        " [75486280874, 'Promotor', (50.00, 36.00, 14.00, 20.0)],\n",
        " [53164949799, 'Promotor', (54.00, 39.00, 17.00, 40.0)],\n",
        " [39898704131, 'Promotor', (46.00, 34.00, 14.00, 30.0)],\n",
        " [53740901207, 'Promotor', (50.00, 34.00, 15.00, 20.0)],\n",
        " [51735950236, 'Promotor', (44.00, 29.00, 14.00, 20.0)],\n",
        " [47305108951, 'Promotor', (49.00, 31.00, 15.00, 10.0)],\n",
        " [63858864633, 'Promotor', (54.00, 37.00, 15.00, 20.0)],\n",
        " [53363167240, 'Promotor', (48.00, 34.00, 16.00, 20.0)],\n",
        " [72133754195, 'Promotor', (48.00, 30.00, 14.00, 10.0)],\n",
        " [52802483512, 'Promotor', (43.00, 30.00, 11.00, 10.0)],\n",
        " [57925287214, 'Promotor', (48.00, 34.00, 19.00, 20.0)],\n",
        " [74354632224, 'Promotor', (50.00, 30.00, 16.00, 20.0)],\n",
        " [64020216626, 'Promotor', (50.00, 34.00, 16.00, 40.0)],\n",
        " [78223722856, 'Promotor', (52.00, 35.00, 15.00, 20.0)],\n",
        " [58245228846, 'Promotor', (52.00, 34.00, 14.00, 20.0)],\n",
        " [74490686776, 'Promotor', (47.00, 32.00, 16.00, 20.0)],\n",
        " [48646824781, 'Promotor', (48.00, 31.00, 16.00, 20.0)],\n",
        " [77381458676, 'Promotor', (54.00, 34.00, 15.00, 40.0)],\n",
        " [41615431874, 'Promotor', (52.00, 41.00, 15.00, 10.0)],\n",
        " [52163844491, 'Promotor', (55.00, 42.00, 14.00, 20.0)],\n",
        " [70276304567, 'Promotor', (49.00, 31.00, 15.00, 20.0)],\n",
        " [69119828185, 'Promotor', (50.00, 32.00, 12.00, 20.0)],\n",
        " [65441690046, 'Promotor', (55.00, 35.00, 13.00, 20.0)],\n",
        " [56457227894, 'Promotor', (49.00, 36.00, 14.00, 10.0)],\n",
        " [46939428126, 'Promotor', (44.00, 30.00, 13.00, 20.0)],\n",
        " [60979942480, 'Promotor', (51.00, 34.00, 15.00, 20.0)],\n",
        " [41648583220, 'Promotor', (50.00, 35.00, 13.00, 30.0)],\n",
        " [50376331791, 'Promotor', (45.00, 23.00, 13.00, 30.0)],\n",
        " [67008801023, 'Promotor', (44.00, 32.00, 13.00, 20.0)],\n",
        " [72149193419, 'Promotor', (50.00, 35.00, 16.00, 60.0)],\n",
        " [62830733382, 'Promotor', (51.00, 38.00, 19.00, 40.0)],\n",
        " [56716675811, 'Promotor', (48.00, 30.00, 14.00, 30.0)],\n",
        " [61089667146, 'Promotor', (51.00, 38.00, 16.00, 20.0)],\n",
        " [47795509468, 'Promotor', (46.00, 32.00, 14.00, 20.0)],\n",
        " [60899885693, 'Promotor', (53.00, 37.00, 15.00, 20.0)],\n",
        " [53433670705, 'Promotor', (50.00, 33.00, 14.00, 20.0)],\n",
        " [54850120580, 'Neutro', (70.00, 32.00, 47.00, 14.00)],\n",
        " [71457789994, 'Neutro', (64.00, 32.00, 45.00, 15.00)],\n",
        " [67692777563, 'Neutro', (69.00, 31.00, 49.00, 15.00)],\n",
        " [43133573182, 'Neutro', (55.00, 23.00, 40.00, 13.00)],\n",
        " [55150612815, 'Neutro', (65.00, 28.00, 46.00, 15.00)],\n",
        " [48211725243, 'Neutro', (57.00, 28.00, 45.00, 13.00)],\n",
        " [76686463776, 'Neutro', (63.00, 33.00, 47.00, 16.00)],\n",
        " [71971000560, 'Neutro', (49.00, 24.00, 33.00, 10.00)],\n",
        " [40307235992, 'Neutro', (66.00, 29.00, 46.00, 13.00)],\n",
        " [44826533081, 'Neutro', (52.00, 27.00, 39.00, 14.00)],\n",
        " [45735414894, 'Neutro', (59.00, 32.00, 48.00, 18.00)],\n",
        " [57137146514, 'Neutro', (61.00, 28.00, 40.00, 13.00)],\n",
        " [53657058251, 'Neutro', (63.00, 25.00, 49.00, 15.00)],\n",
        " [52941460485, 'Neutro', (61.00, 28.00, 47.00, 12.00)],\n",
        " [44306600683, 'Neutro', (64.00, 29.00, 43.00, 13.00)],\n",
        " [43460747924, 'Neutro', (66.00, 30.00, 44.00, 14.00)],\n",
        " [75590376075, 'Neutro', (68.00, 28.00, 48.00, 14.00)],\n",
        " [68267282206, 'Neutro', (67.00, 30.00, 50.00, 17.00)],\n",
        " [77567920298, 'Neutro', (60.00, 29.00, 45.00, 15.00)],\n",
        " [67600419504, 'Neutro', (57.00, 26.00, 35.00, 10.00)],\n",
        " [44902189811, 'Neutro', (55.00, 24.00, 38.00, 11.00)],\n",
        " [62966866614, 'Neutro', (55.00, 24.00, 37.00, 10.00)],\n",
        " [56182108880, 'Neutro', (58.00, 27.00, 39.00, 12.00)],\n",
        " [78299785392, 'Neutro', (60.00, 27.00, 51.00, 16.00)],\n",
        " [45206071878, 'Neutro', (54.00, 30.00, 45.00, 15.00)],\n",
        " [57381925887, 'Neutro', (60.00, 34.00, 45.00, 16.00)],\n",
        " [65654934891, 'Neutro', (67.00, 31.00, 47.00, 15.00)],\n",
        " [56130640481, 'Neutro', (63.00, 23.00, 44.00, 13.00)],\n",
        " [59667611672, 'Neutro', (56.00, 30.00, 41.00, 13.00)],\n",
        " [40349334385, 'Neutro', (55.00, 25.00, 40.00, 13.00)],\n",
        " [68422640081, 'Neutro', (55.00, 26.00, 44.00, 12.00)],\n",
        " [55245923439, 'Neutro', (61.00, 30.00, 46.00, 14.00)],\n",
        " [51286696873, 'Neutro', (58.00, 26.00, 40.00, 12.00)],\n",
        " [41065279767, 'Neutro', (50.00, 23.00, 33.00, 10.00)],\n",
        " [42866454119, 'Neutro', (56.00, 27.00, 42.00, 13.00)],\n",
        " [61962944542, 'Neutro', (57.00, 30.00, 42.00, 12.00)],\n",
        " [48623501235, 'Neutro', (57.00, 29.00, 42.00, 13.00)],\n",
        " [49475220139, 'Neutro', (62.00, 29.00, 43.00, 13.00)],\n",
        " [52245218531, 'Neutro', (51.00, 25.00, 30.00, 11.00)],\n",
        " [50932926697, 'Neutro', (57.00, 28.00, 41.00, 13.00)],\n",
        " [47432932248, 'Detrator', (63.00, 33.00, 60.00, 25.00)],\n",
        " [39321991579, 'Detrator', (58.00, 27.00, 51.00, 19.00)],\n",
        " [46283759608, 'Detrator', (71.00, 30.00, 59.00, 21.00)],\n",
        " [56996272538, 'Detrator', (63.00, 29.00, 56.00, 18.00)],\n",
        " [77232189978, 'Detrator', (65.00, 30.00, 58.00, 22.00)],\n",
        " [77183282421, 'Detrator', (76.00, 30.00, 66.00, 21.00)],\n",
        " [42857147573, 'Detrator', (49.00, 25.00, 45.00, 17.00)],\n",
        " [39331584043, 'Detrator', (73.00, 29.00, 63.00, 18.00)],\n",
        " [48130345228, 'Detrator', (67.00, 25.00, 58.00, 18.00)],\n",
        " [71422443953, 'Detrator', (72.00, 36.00, 61.00, 25.00)],\n",
        " [72508507904, 'Detrator', (69.00, 32.00, 57.00, 23.00)],\n",
        " [41188727558, 'Detrator', (56.00, 28.00, 49.00, 20.00)],\n",
        " [61358776640, 'Detrator', (77.00, 28.00, 67.00, 20.00)],\n",
        " [66934042323, 'Detrator', (63.00, 27.00, 49.00, 18.00)],\n",
        " [40622495567, 'Detrator', (67.00, 33.00, 57.00, 21.00)],\n",
        " [57221661311, 'Detrator', (72.00, 32.00, 60.00, 18.00)],\n",
        " [45159362930, 'Detrator', (62.00, 28.00, 48.00, 18.00)],\n",
        " [45018975174, 'Detrator', (61.00, 30.00, 49.00, 18.00)],\n",
        " [70685429140, 'Detrator', (64.00, 28.00, 56.00, 21.00)],\n",
        " [61808723477, 'Detrator', (72.00, 30.00, 58.00, 16.00)],\n",
        " [56363906548, 'Detrator', (74.00, 28.00, 61.00, 19.00)],\n",
        " [39646194720, 'Detrator', (79.00, 38.00, 64.00, 20.00)],\n",
        " [55385494438, 'Detrator', (64.00, 28.00, 56.00, 22.00)],\n",
        " [75796138061, 'Detrator', (63.00, 28.00, 51.00, 15.00)],\n",
        " [53595767857, 'Detrator', (61.00, 26.00, 56.00, 14.00)],\n",
        " [48758828080, 'Detrator', (77.00, 30.00, 61.00, 23.00)],\n",
        " [58387651356, 'Detrator', (63.00, 34.00, 56.00, 24.00)],\n",
        " [72846931192, 'Detrator', (64.00, 31.00, 55.00, 18.00)],\n",
        " [47046896346, 'Detrator', (60.00, 30.00, 48.00, 18.00)],\n",
        " [69730292799, 'Detrator', (69.00, 31.00, 54.00, 21.00)],\n",
        " [48177836349, 'Detrator', (67.00, 31.00, 56.00, 24.00)],\n",
        " [57976326635, 'Detrator', (69.00, 31.00, 51.00, 23.00)],\n",
        " [55710813002, 'Detrator', (58.00, 27.00, 51.00, 19.00)],\n",
        " [64028580439, 'Detrator', (68.00, 32.00, 59.00, 23.00)],\n",
        " [49962942971, 'Detrator', (67.00, 33.00, 57.00, 25.00)],\n",
        " [47250893163, 'Detrator', (67.00, 30.00, 52.00, 23.00)],\n",
        " [75559276274, 'Detrator', (63.00, 25.00, 50.00, 19.00)],\n",
        " [58529878272, 'Detrator', (65.00, 30.00, 52.00, 20.00)],\n",
        " [76005896622, 'Detrator', (62.00, 34.00, 54.00, 23.00)],\n",
        " [49212614633, 'Detrator', (59.00, 30.00, 51.00, 18.00)]]"
      ],
      "metadata": {
        "id": "lJAp2wPEuuaB"
      },
      "execution_count": null,
      "outputs": []
    },
    {
      "cell_type": "code",
      "source": [
        "#Distribuição dos Classificados\n",
        "\n",
        "promotor = 0\n",
        "neutro = 0\n",
        "detrator = 0\n",
        "total = 0\n",
        "\n",
        "for elemento_data in data:  #para cada classificado\n",
        "  total += 1\n",
        "  if elemento_data[1] == 'Promotor':\n",
        "      promotor += 1\n",
        "  elif elemento_data[1] == 'Neutro':\n",
        "      neutro += 1\n",
        "  else:\n",
        "      detrator += 1\n",
        "\n",
        "print(f\"\"\"Temos {total} CPFs, dos quais:\n",
        "  - {promotor/total*100:.1f}% são promotores,\n",
        "  - {neutro/total*100:.1f}% são neutros,\n",
        "  - {detrator/total*100:.1f}% são destratores.\n",
        "\"\"\")"
      ],
      "metadata": {
        "colab": {
          "base_uri": "https://localhost:8080/"
        },
        "id": "zwbwbMXqxKFs",
        "outputId": "605f2bab-94ef-4ff1-b220-511d9e47cd85"
      },
      "execution_count": 19,
      "outputs": [
        {
          "output_type": "stream",
          "name": "stdout",
          "text": [
            "Temos 120 CPFs, dos quais:\n",
            "  - 33.3% são promotores,\n",
            "  - 33.3% são neutros,\n",
            "  - 33.3% são destratores,\n",
            "\n"
          ]
        }
      ]
    },
    {
      "cell_type": "code",
      "source": [
        "#Dados sem classificação\n",
        "no_class = [[45926320819, '', (58.00, 40.00, 12.00, 20.0)],\n",
        " [52559670741, '', (57.00, 44.00, 15.00, 40.0)],\n",
        " [59016004832, '', (54.00, 39.00, 13.00, 40.0)],\n",
        " [66175672425, '', (51.00, 35.00, 14.00, 30.0)],\n",
        " [53330429526, '', (57.00, 38.00, 17.00, 30.0)],\n",
        " [43765563403, '', (51.00, 38.00, 15.00, 30.0)],\n",
        " [68020822591, '', (54.00, 34.00, 17.00, 20.0)],\n",
        " [53939481689, '', (51.00, 37.00, 15.00, 40.0)],\n",
        " [47014057561, '', (46.00, 36.00, 10.00, 20.0)],\n",
        " [57183542047, '', (51.00, 33.00, 17.00, 50.0)],\n",
        "\n",
        " [68518284363, '', (50.00, 20.00, 35.00, 10.00)],\n",
        " [65806049885, '', (59.00, 30.00, 42.00, 15.00)],\n",
        " [54128073086, '', (60.00, 22.00, 40.00, 10.00)],\n",
        " [41306785494, '', (61.00, 29.00, 47.00, 14.00)],\n",
        " [65234831039, '', (56.00, 29.00, 36.00, 13.00)],\n",
        " [50964498067, '', (67.00, 31.00, 44.00, 14.00)],\n",
        " [50810951429, '', (56.00, 30.00, 45.00, 15.00)],\n",
        " [48765044397, '', (58.00, 27.00, 41.00, 10.00)],\n",
        " [41960083761, '', (62.00, 22.00, 45.00, 15.00)],\n",
        " [76657763082, '', (56.00, 25.00, 39.00, 11.00)],\n",
        "\n",
        " [64726487742, '', (65.00, 32.00, 51.00, 20.00)],\n",
        " [75746566283, '', (64.00, 27.00, 53.00, 19.00)],\n",
        " [78576734793, '', (68.00, 30.00, 55.00, 21.00)],\n",
        " [56440141847, '', (57.00, 25.00, 50.00, 20.00)],\n",
        " [66827423000, '', (58.00, 28.00, 51.00, 24.00)],\n",
        " [45267873396, '', (64.00, 32.00, 53.00, 23.00)],\n",
        " [46387191493, '', (65.00, 30.00, 55.00, 18.00)],\n",
        " [54273611732, '', (77.00, 38.00, 67.00, 22.00)],\n",
        " [75135392881, '', (77.00, 26.00, 69.00, 23.00)],\n",
        " [64703873108, '', (60.00, 22.00, 50.00, 15.00)]]"
      ],
      "metadata": {
        "id": "3NNr2ZlyeL0z"
      },
      "execution_count": 1,
      "outputs": []
    },
    {
      "cell_type": "code",
      "source": [
        "# Quantos CPFs não temos classificação\n",
        "print(f'Temos {len(no_class)} CPFs sem classificação')\n"
      ],
      "metadata": {
        "colab": {
          "base_uri": "https://localhost:8080/"
        },
        "id": "ll1xzdQLBUyj",
        "outputId": "d5de360d-54a5-4b73-d962-b0cb3e3f66b6"
      },
      "execution_count": 20,
      "outputs": [
        {
          "output_type": "stream",
          "name": "stdout",
          "text": [
            "Temos 30 CPFs sem classificação\n"
          ]
        }
      ]
    },
    {
      "cell_type": "code",
      "source": [
        "# Recolher o número de vizinhos proximos para análise\n",
        "k = int(input('Digite o número de vizinhos para a análise: \\n'))"
      ],
      "metadata": {
        "colab": {
          "base_uri": "https://localhost:8080/"
        },
        "id": "YbbKahjfvtIy",
        "outputId": "07443c6f-b066-4a04-b12e-863a71739646"
      },
      "execution_count": 21,
      "outputs": [
        {
          "name": "stdout",
          "output_type": "stream",
          "text": [
            "Digite o número de vizinhos para a análise: \n",
            "5\n"
          ]
        }
      ]
    },
    {
      "cell_type": "code",
      "source": [
        "lista_final = [] #lista com a classificação\n",
        "for elemento_no_class in no_class:  #para cada não classificado\n",
        "\n",
        "  #zerar para cada cpf não classificado\n",
        "  distancia = 0\n",
        "  distancias_elemento = []\n",
        "  promotor = 0\n",
        "  neutro = 0\n",
        "  detrator = 0\n",
        "\n",
        "  #calcular a distância e salvar\n",
        "  for elemento_data in data:  #para cada classificado\n",
        "    lista_zip = list(zip(elemento_no_class[2], elemento_data[2])) #mesclar não classificado com classificado\n",
        "    distancia = (sum([(lista_zip[k][0] - lista_zip[k][1])**2 for k in range(len(lista_zip))]))**(0.5) #calcular distância\n",
        "    distancias_elemento.append([distancia, elemento_data[0], elemento_data[1], elemento_no_class[0]]) #salvar distancia, cpf_data, class_data, cpf_no_class\n",
        "\n",
        "  #encontra os 5 menores da lista\n",
        "  menores_valores = sorted(distancias_elemento)[:k]\n",
        "\n",
        "  # Esse for percorre a lista com os 5 vizinhos mais proximos e conta quais deles sao promotor, neutro e detetor\n",
        "  for valor in menores_valores:\n",
        "    if valor[2] == 'Promotor':\n",
        "        promotor += 1\n",
        "    elif valor[2] == 'Neutro':\n",
        "        neutro += 1\n",
        "    else:\n",
        "        detrator += 1\n",
        "\n",
        "  #Classificar atraves da repetição\n",
        "  if promotor > neutro and promotor > detrator: # Uma vez que ocorreu a contagem, aqui ocorre a comparacao para determinar qual classe repetiu mais vezes\n",
        "    lista_final.append([elemento_no_class[0], \"Promotor\", elemento_no_class[2]])\n",
        "  elif neutro > detrator and neutro > promotor:\n",
        "    lista_final.append([elemento_no_class[0], \"Neutro\", elemento_no_class[2]])\n",
        "  elif detrator > neutro and detrator > promotor:\n",
        "    lista_final.append([elemento_no_class[0], \"Detrator\", elemento_no_class[2]])\n",
        "  else:\n",
        "    lista_final.append([elemento_no_class[0], \"Empate\", elemento_no_class[2]])\n"
      ],
      "metadata": {
        "id": "upR7EOpABwLz"
      },
      "execution_count": 22,
      "outputs": []
    },
    {
      "cell_type": "code",
      "source": [
        "for linha in lista_final: #Mostra a lista final gerada, com a tabela que inicialmente estava sem classe.\n",
        "  print(f'Para o cpf {linha[0]} a classificação é {linha[1]}')"
      ],
      "metadata": {
        "colab": {
          "base_uri": "https://localhost:8080/"
        },
        "id": "hoB1CPHvQ9W_",
        "outputId": "897c238f-82e9-495b-f1a5-dbbd9760e781"
      },
      "execution_count": 23,
      "outputs": [
        {
          "output_type": "stream",
          "name": "stdout",
          "text": [
            "Para o cpf 45926320819 a classificação é Promotor\n",
            "Para o cpf 52559670741 a classificação é Promotor\n",
            "Para o cpf 59016004832 a classificação é Promotor\n",
            "Para o cpf 66175672425 a classificação é Promotor\n",
            "Para o cpf 53330429526 a classificação é Promotor\n",
            "Para o cpf 43765563403 a classificação é Promotor\n",
            "Para o cpf 68020822591 a classificação é Promotor\n",
            "Para o cpf 53939481689 a classificação é Promotor\n",
            "Para o cpf 47014057561 a classificação é Promotor\n",
            "Para o cpf 57183542047 a classificação é Promotor\n",
            "Para o cpf 68518284363 a classificação é Neutro\n",
            "Para o cpf 65806049885 a classificação é Neutro\n",
            "Para o cpf 54128073086 a classificação é Neutro\n",
            "Para o cpf 41306785494 a classificação é Neutro\n",
            "Para o cpf 65234831039 a classificação é Neutro\n",
            "Para o cpf 50964498067 a classificação é Neutro\n",
            "Para o cpf 50810951429 a classificação é Neutro\n",
            "Para o cpf 48765044397 a classificação é Neutro\n",
            "Para o cpf 41960083761 a classificação é Neutro\n",
            "Para o cpf 76657763082 a classificação é Neutro\n",
            "Para o cpf 64726487742 a classificação é Detrator\n",
            "Para o cpf 75746566283 a classificação é Detrator\n",
            "Para o cpf 78576734793 a classificação é Detrator\n",
            "Para o cpf 56440141847 a classificação é Detrator\n",
            "Para o cpf 66827423000 a classificação é Detrator\n",
            "Para o cpf 45267873396 a classificação é Detrator\n",
            "Para o cpf 46387191493 a classificação é Detrator\n",
            "Para o cpf 54273611732 a classificação é Detrator\n",
            "Para o cpf 75135392881 a classificação é Detrator\n",
            "Para o cpf 64703873108 a classificação é Detrator\n"
          ]
        }
      ]
    },
    {
      "cell_type": "code",
      "source": [
        "#Distribuição apos a classificação\n",
        "\n",
        "promotor = 0\n",
        "neutro = 0\n",
        "detrator = 0\n",
        "total = 0\n",
        "\n",
        "for linha in lista_final:  #para cada classificado\n",
        "  total += 1\n",
        "  if linha[1] == 'Promotor':\n",
        "      promotor += 1\n",
        "  elif linha[1] == 'Neutro':\n",
        "      neutro += 1\n",
        "  else:\n",
        "      detrator += 1\n",
        "\n",
        "print(f\"\"\"Temos {total} CPFs, dos quais:\n",
        "  - {promotor/total*100:.1f}% são promotores,\n",
        "  - {neutro/total*100:.1f}% são neutros,\n",
        "  - {detrator/total*100:.1f}% são destratores.\n",
        "\"\"\")"
      ],
      "metadata": {
        "colab": {
          "base_uri": "https://localhost:8080/"
        },
        "id": "zj5_kYDTz6pJ",
        "outputId": "607e26a6-07eb-4425-d007-f780de5665b1"
      },
      "execution_count": 24,
      "outputs": [
        {
          "output_type": "stream",
          "name": "stdout",
          "text": [
            "Temos 30 CPFs, dos quais:\n",
            "  - 33.3% são promotores,\n",
            "  - 33.3% são neutros,\n",
            "  - 33.3% são destratores.\n",
            "\n"
          ]
        }
      ]
    },
    {
      "cell_type": "markdown",
      "source": [
        "<h2>Conclusão<h2>\n",
        "\n",
        "A elaboração desse mini projeto sem uso de bibliotecas foi importante para a solidificação dos conceitos da classificação utilizando a metodologia do KNN. Utilizou-se o k = 5, pois como são 3 tipos de classificação, utilizando um k par ou igual a 3 poderiamos ter um empate, ou seja, não teriamos como o classificar. Além disso, verificamos que a distribuição após a classificação se manteve a mesma."
      ],
      "metadata": {
        "id": "-7G5xI3m1z2G"
      }
    }
  ]
}